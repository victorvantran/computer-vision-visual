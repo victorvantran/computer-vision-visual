{
 "cells": [
  {
   "cell_type": "markdown",
   "metadata": {
    "id": "aL0DtVHhjcYa"
   },
   "source": [
    "##### Copyright 2021 The TensorFlow Authors."
   ]
  },
  {
   "cell_type": "code",
   "execution_count": 2,
   "metadata": {
    "id": "1EdcwClbjXEt"
   },
   "outputs": [],
   "source": [
    "#@title Licensed under the Apache License, Version 2.0 (the \"License\");\n",
    "# you may not use this file except in compliance with the License.\n",
    "# You may obtain a copy of the License at\n",
    "#\n",
    "# https://www.apache.org/licenses/LICENSE-2.0\n",
    "#\n",
    "# Unless required by applicable law or agreed to in writing, software\n",
    "# distributed under the License is distributed on an \"AS IS\" BASIS,\n",
    "# WITHOUT WARRANTIES OR CONDITIONS OF ANY KIND, either express or implied.\n",
    "# See the License for the specific language governing permissions and\n",
    "# limitations under the License."
   ]
  },
  {
   "cell_type": "markdown",
   "metadata": {
    "id": "kaqqGkH3jjk1"
   },
   "source": [
    "# Compile TensorFlow Lite models for Coral Edge TPU\n",
    "\n",
    "This notebook demonstrates how to take the object detection model trained with [TensorFlow Lite Model Maker](https://www.tensorflow.org/lite/guide/model_maker) and compile it to run on [Coral Edge TPU](https://coral.ai/). See this [notebook](https://colab.research.google.com/github/khanhlvg/tflite_raspberry_pi/blob/main/object_detection/Train_custom_model_tutorial.ipynb) if you want to learn how to train a custom TensorFlow Lite object detection model using Model Maker.\n",
    "\n",
    "First, download the TensorFlow Lite model for detecting Android figurines that we have trained with Model Maker."
   ]
  },
  {
   "cell_type": "code",
   "execution_count": null,
   "metadata": {
    "colab": {
     "base_uri": "https://localhost:8080/"
    },
    "id": "_Tu6_2brjgmw",
    "outputId": "a589f25e-0225-423f-bcb5-e8c34594bd43"
   },
   "outputs": [
    {
     "name": "stdout",
     "output_type": "stream",
     "text": [
      "--2022-11-10 12:54:01--  https://storage.googleapis.com/download.tensorflow.org/models/tflite/android_figurine.tflite\n",
      "Resolving storage.googleapis.com (storage.googleapis.com)... 108.177.111.128, 142.250.1.128, 108.177.121.128, ...\n",
      "Connecting to storage.googleapis.com (storage.googleapis.com)|108.177.111.128|:443... connected.\n",
      "HTTP request sent, awaiting response... 200 OK\n",
      "Length: 4427830 (4.2M) [application/octet-stream]\n",
      "Saving to: ‘android.tflite’\n",
      "\n",
      "\r",
      "android.tflite        0%[                    ]       0  --.-KB/s               \r",
      "android.tflite      100%[===================>]   4.22M  --.-KB/s    in 0.03s   \n",
      "\n",
      "2022-11-10 12:54:01 (155 MB/s) - ‘android.tflite’ saved [4427830/4427830]\n",
      "\n"
     ]
    }
   ],
   "source": [
    "!wget -O android.tflite https://storage.googleapis.com/download.tensorflow.org/models/tflite/android_figurine.tflite"
   ]
  },
  {
   "cell_type": "markdown",
   "metadata": {
    "id": "eFueLPlxojU2"
   },
   "source": [
    "Then install the EdgeTPU runtime."
   ]
  },
  {
   "cell_type": "code",
   "execution_count": null,
   "metadata": {
    "colab": {
     "base_uri": "https://localhost:8080/"
    },
    "id": "zjxUfcA2ji6H",
    "outputId": "1b54dbac-9045-4e1f-c0c3-e1618ef44da6"
   },
   "outputs": [
    {
     "name": "stdout",
     "output_type": "stream",
     "text": [
      "  % Total    % Received % Xferd  Average Speed   Time    Time     Time  Current\n",
      "                                 Dload  Upload   Total   Spent    Left  Speed\n",
      "\r",
      "  0     0    0     0    0     0      0      0 --:--:-- --:--:-- --:--:--     0\r",
      "100  2537  100  2537    0     0  53978      0 --:--:-- --:--:-- --:--:-- 53978\n",
      "OK\n",
      "deb https://packages.cloud.google.com/apt coral-edgetpu-stable main\n",
      "Get:1 http://security.ubuntu.com/ubuntu bionic-security InRelease [88.7 kB]\n",
      "Hit:2 http://archive.ubuntu.com/ubuntu bionic InRelease\n",
      "Get:3 http://archive.ubuntu.com/ubuntu bionic-updates InRelease [88.7 kB]\n",
      "Get:4 https://cloud.r-project.org/bin/linux/ubuntu bionic-cran40/ InRelease [3,626 B]\n",
      "Get:5 http://archive.ubuntu.com/ubuntu bionic-backports InRelease [83.3 kB]\n",
      "Ign:6 https://developer.download.nvidia.com/compute/machine-learning/repos/ubuntu1804/x86_64  InRelease\n",
      "Hit:7 https://developer.download.nvidia.com/compute/cuda/repos/ubuntu1804/x86_64  InRelease\n",
      "Hit:8 https://developer.download.nvidia.com/compute/machine-learning/repos/ubuntu1804/x86_64  Release\n",
      "Hit:9 http://ppa.launchpad.net/c2d4u.team/c2d4u4.0+/ubuntu bionic InRelease\n",
      "Get:10 https://packages.cloud.google.com/apt coral-edgetpu-stable InRelease [6,722 B]\n",
      "Hit:11 http://ppa.launchpad.net/cran/libgit2/ubuntu bionic InRelease\n",
      "Get:12 http://security.ubuntu.com/ubuntu bionic-security/universe amd64 Packages [1,554 kB]\n",
      "Get:13 http://security.ubuntu.com/ubuntu bionic-security/restricted amd64 Packages [1,230 kB]\n",
      "Hit:14 http://ppa.launchpad.net/deadsnakes/ppa/ubuntu bionic InRelease\n",
      "Get:15 http://security.ubuntu.com/ubuntu bionic-security/main amd64 Packages [3,040 kB]\n",
      "Hit:16 http://ppa.launchpad.net/graphics-drivers/ppa/ubuntu bionic InRelease\n",
      "Get:17 http://archive.ubuntu.com/ubuntu bionic-updates/restricted amd64 Packages [1,271 kB]\n",
      "Get:18 http://archive.ubuntu.com/ubuntu bionic-updates/universe amd64 Packages [2,332 kB]\n",
      "Get:19 http://archive.ubuntu.com/ubuntu bionic-updates/main amd64 Packages [3,472 kB]\n",
      "Get:20 http://archive.ubuntu.com/ubuntu bionic-updates/multiverse amd64 Packages [29.9 kB]\n",
      "Get:22 https://packages.cloud.google.com/apt coral-edgetpu-stable/main amd64 Packages [2,317 B]\n",
      "Fetched 13.2 MB in 3s (4,614 kB/s)\n",
      "Reading package lists... Done\n",
      "Reading package lists... Done\n",
      "Building dependency tree       \n",
      "Reading state information... Done\n",
      "The following package was automatically installed and is no longer required:\n",
      "  libnvidia-common-460\n",
      "Use 'sudo apt autoremove' to remove it.\n",
      "The following NEW packages will be installed:\n",
      "  edgetpu-compiler\n",
      "0 upgraded, 1 newly installed, 0 to remove and 5 not upgraded.\n",
      "Need to get 7,913 kB of archives.\n",
      "After this operation, 31.2 MB of additional disk space will be used.\n",
      "Get:1 https://packages.cloud.google.com/apt coral-edgetpu-stable/main amd64 edgetpu-compiler amd64 16.0 [7,913 kB]\n",
      "Fetched 7,913 kB in 1s (12.3 MB/s)\n",
      "debconf: unable to initialize frontend: Dialog\n",
      "debconf: (No usable dialog-like program is installed, so the dialog based frontend cannot be used. at /usr/share/perl5/Debconf/FrontEnd/Dialog.pm line 76, <> line 1.)\n",
      "debconf: falling back to frontend: Readline\n",
      "debconf: unable to initialize frontend: Readline\n",
      "debconf: (This frontend requires a controlling tty.)\n",
      "debconf: falling back to frontend: Teletype\n",
      "dpkg-preconfigure: unable to re-open stdin: \n",
      "Selecting previously unselected package edgetpu-compiler.\n",
      "(Reading database ... 123942 files and directories currently installed.)\n",
      "Preparing to unpack .../edgetpu-compiler_16.0_amd64.deb ...\n",
      "Unpacking edgetpu-compiler (16.0) ...\n",
      "Setting up edgetpu-compiler (16.0) ...\n",
      "Processing triggers for libc-bin (2.27-3ubuntu1.6) ...\n"
     ]
    }
   ],
   "source": [
    "!curl https://packages.cloud.google.com/apt/doc/apt-key.gpg | sudo apt-key add -\n",
    "!echo \"deb https://packages.cloud.google.com/apt coral-edgetpu-stable main\" | sudo tee /etc/apt/sources.list.d/coral-edgetpu.list\n",
    "!sudo apt-get update\n",
    "!sudo apt-get install edgetpu-compiler"
   ]
  },
  {
   "cell_type": "markdown",
   "metadata": {
    "id": "zKGVro34op_l"
   },
   "source": [
    "Then compile the TensorFlow Lite model using the Edge TPU compiler.\n",
    "\n",
    "**Note:** When training the model using a custom dataset, beware that if your dataset includes more than 20 classes, you'll probably have slower inference speeds compared to if you have fewer classes. This is due to an aspect of the EfficientDet architecture in which a certain layer cannot compile for the Edge TPU when it carries more than 20 classes."
   ]
  },
  {
   "cell_type": "code",
   "execution_count": null,
   "metadata": {
    "colab": {
     "base_uri": "https://localhost:8080/"
    },
    "id": "CkkoXxsEorqs",
    "outputId": "d0d3b71a-0b9f-4e94-c4d4-47683e6cbfe0"
   },
   "outputs": [
    {
     "name": "stdout",
     "output_type": "stream",
     "text": [
      "Edge TPU Compiler version 16.0.384591198\n",
      "Searching for valid delegate with step 1\n",
      "Try to compile segment with 72 ops\n",
      "Started a compilation timeout timer of 180 seconds.\n",
      "\n",
      "Model compiled successfully in 1381 ms.\n",
      "\n",
      "Input model: deeplabv3_mnv2_257_proper_rep.tflite\n",
      "Input size: 2.46MiB\n",
      "Output model: deeplabv3_mnv2_257_proper_rep_edgetpu.tflite\n",
      "Output size: 3.01MiB\n",
      "On-chip memory used for caching model parameters: 2.51MiB\n",
      "On-chip memory remaining for caching model parameters: 4.44MiB\n",
      "Off-chip memory used for streaming uncached model parameters: 0.00B\n",
      "Number of Edge TPU subgraphs: 2\n",
      "Total number of operations: 72\n",
      "Operation log: deeplabv3_mnv2_257_proper_rep_edgetpu.log\n",
      "\n",
      "Model successfully compiled but not all operations are supported by the Edge TPU. A percentage of the model will instead run on the CPU, which is slower. If possible, consider updating your model to use only operations supported by the Edge TPU. For details, visit g.co/coral/model-reqs.\n",
      "Number of operations that will run on Edge TPU: 71\n",
      "Number of operations that will run on CPU: 1\n",
      "\n",
      "Operator                       Count      Status\n",
      "\n",
      "RESIZE_BILINEAR                1          Image-interpolation layer won't run precisely enough on Edge TPU\n",
      "RESIZE_BILINEAR                2          Mapped to Edge TPU\n",
      "AVERAGE_POOL_2D                1          Mapped to Edge TPU\n",
      "DEPTHWISE_CONV_2D              17         Mapped to Edge TPU\n",
      "CONCATENATION                  1          Mapped to Edge TPU\n",
      "ADD                            10         Mapped to Edge TPU\n",
      "QUANTIZE                       2          Mapped to Edge TPU\n",
      "CONV_2D                        38         Mapped to Edge TPU\n",
      "Compilation child process completed within timeout period.\n",
      "Compilation succeeded! \n"
     ]
    }
   ],
   "source": [
    "#!edgetpu_compiler deeplabv3_mnv2_custom_257_etpu.tflite\n",
    "\n",
    "#!edgetpu_compiler -s -d -a -v --min_runtime_version 10 deeplabv3_mnv2_custom_257_etpu.tflite\n",
    "# https://coral.ai/docs/edgetpu/compiler/#compiler-and-runtime-versions\n",
    "\n",
    "######!edgetpu_compiler --min_runtime_version 13 -s -d -a deeplabv3_mnv2_custom_257_etpu.tflite\n",
    "#!edgetpu_compiler -s -d -a deeplabv3_mnv2_custom_257_test_int8.tflite\n",
    "\n",
    "\n",
    "!edgetpu_compiler --min_runtime_version 13 -s -d -a deeplabv3_mnv2_257_proper_rep.tflite\n"
   ]
  },
  {
   "cell_type": "markdown",
   "metadata": {
    "id": "okqIVugeow5t"
   },
   "source": [
    "Finally, we'll copy the metadata, including the label file, from the original TensorFlow Lite model to the EdgeTPU model. We need to install the TensorFlow Lite Support Library to handle model metadata."
   ]
  },
  {
   "cell_type": "code",
   "execution_count": null,
   "metadata": {
    "colab": {
     "base_uri": "https://localhost:8080/"
    },
    "id": "g-JAohrgyHtB",
    "outputId": "bb2a3971-fe69-4fab-b867-78225edf567f"
   },
   "outputs": [
    {
     "name": "stdout",
     "output_type": "stream",
     "text": [
      "\u001b[K     |████████████████████████████████| 60.9 MB 1.1 MB/s \n",
      "\u001b[K     |████████████████████████████████| 216 kB 67.2 MB/s \n",
      "\u001b[31mERROR: pip's dependency resolver does not currently take into account all the packages that are installed. This behaviour is the source of the following dependency conflicts.\n",
      "tensorflow 2.9.2 requires flatbuffers<2,>=1.12, but you have flatbuffers 22.10.26 which is incompatible.\u001b[0m\n",
      "\u001b[?25h"
     ]
    }
   ],
   "source": [
    "!pip install -q tflite-support"
   ]
  },
  {
   "cell_type": "code",
   "execution_count": null,
   "metadata": {
    "id": "kwWo1_hVonGI"
   },
   "outputs": [],
   "source": [
    "from tflite_support import metadata\n",
    "\n",
    "populator_dst = metadata.MetadataPopulator.with_model_file('deeplabv3_mnv2_257_proper_rep_edgetpu.tflite')\n",
    "\n",
    "with open('deeplabv3_mnv2_257_proper_rep.tflite', 'rb') as f:\n",
    "  populator_dst.load_metadata_and_associated_files(f.read())\n",
    "\n",
    "populator_dst.populate()\n",
    "updated_model_buf = populator_dst.get_model_buffer()"
   ]
  },
  {
   "cell_type": "code",
   "execution_count": null,
   "metadata": {
    "colab": {
     "base_uri": "https://localhost:8080/",
     "height": 17
    },
    "id": "apllNVn8ozmO",
    "outputId": "671d77cc-ef4c-451b-9549-a44d5d015808"
   },
   "outputs": [
    {
     "data": {
      "application/javascript": [
       "\n",
       "    async function download(id, filename, size) {\n",
       "      if (!google.colab.kernel.accessAllowed) {\n",
       "        return;\n",
       "      }\n",
       "      const div = document.createElement('div');\n",
       "      const label = document.createElement('label');\n",
       "      label.textContent = `Downloading \"${filename}\": `;\n",
       "      div.appendChild(label);\n",
       "      const progress = document.createElement('progress');\n",
       "      progress.max = size;\n",
       "      div.appendChild(progress);\n",
       "      document.body.appendChild(div);\n",
       "\n",
       "      const buffers = [];\n",
       "      let downloaded = 0;\n",
       "\n",
       "      const channel = await google.colab.kernel.comms.open(id);\n",
       "      // Send a message to notify the kernel that we're ready.\n",
       "      channel.send({})\n",
       "\n",
       "      for await (const message of channel.messages) {\n",
       "        // Send a message to notify the kernel that we're ready.\n",
       "        channel.send({})\n",
       "        if (message.buffers) {\n",
       "          for (const buffer of message.buffers) {\n",
       "            buffers.push(buffer);\n",
       "            downloaded += buffer.byteLength;\n",
       "            progress.value = downloaded;\n",
       "          }\n",
       "        }\n",
       "      }\n",
       "      const blob = new Blob(buffers, {type: 'application/binary'});\n",
       "      const a = document.createElement('a');\n",
       "      a.href = window.URL.createObjectURL(blob);\n",
       "      a.download = filename;\n",
       "      div.appendChild(a);\n",
       "      a.click();\n",
       "      div.remove();\n",
       "    }\n",
       "  "
      ],
      "text/plain": [
       "<IPython.core.display.Javascript object>"
      ]
     },
     "metadata": {},
     "output_type": "display_data"
    },
    {
     "data": {
      "application/javascript": [
       "download(\"download_fb09d049-0e4a-461b-b06e-d44c719e6f11\", \"deeplabv3_mnv2_257_proper_rep_edgetpu.tflite\", 3159502)"
      ],
      "text/plain": [
       "<IPython.core.display.Javascript object>"
      ]
     },
     "metadata": {},
     "output_type": "display_data"
    }
   ],
   "source": [
    "# Download the TFLite model compiled for EdgeTPU to your local computer.\n",
    "from google.colab import files\n",
    "files.download('deeplabv3_mnv2_257_proper_rep_edgetpu.tflite')"
   ]
  }
 ],
 "metadata": {
  "colab": {
   "provenance": []
  },
  "kernelspec": {
   "display_name": "Python 3 (ipykernel)",
   "language": "python",
   "name": "python3"
  },
  "language_info": {
   "codemirror_mode": {
    "name": "ipython",
    "version": 3
   },
   "file_extension": ".py",
   "mimetype": "text/x-python",
   "name": "python",
   "nbconvert_exporter": "python",
   "pygments_lexer": "ipython3",
   "version": "3.7.11"
  }
 },
 "nbformat": 4,
 "nbformat_minor": 1
}
